{
 "cells": [
  {
   "cell_type": "markdown",
   "metadata": {},
   "source": [
    "# 15. 고객을 세그먼테이션하자![프로젝트]"
   ]
  },
  {
   "cell_type": "markdown",
   "metadata": {},
   "source": [
    "1. '고객을 세그먼테이션하자! [파트1 - SQL 실습]'\n",
    "- 데이터 불러오기\n",
    "- 데이터 전처리\n",
    "  - 결측치 제거\n",
    "  - 중복값 처리\n",
    "  - 오류값 처리\n",
    " - RFM 분석\n",
    " - 추가 feature 추츌\n",
    "2. '고객을 세그먼테이션하자! [파트2 - 파이썬 실습]'\n",
    "- 이상 데이터 처리\n",
    "- 변수간 상관관계 분석\n",
    "- 피처 스케일링\n",
    "- 차원 축소\n",
    "- K-Means 클러스터링\n",
    "- 시각화 및 결과 분석\n",
    "  - 고객 세그먼테이션을 통한 인사이트와 전략"
   ]
  },
  {
   "cell_type": "markdown",
   "metadata": {},
   "source": []
  }
 ],
 "metadata": {
  "kernelspec": {
   "display_name": "tftfv",
   "language": "python",
   "name": "python3"
  },
  "language_info": {
   "name": "python",
   "version": "3.9.18"
  }
 },
 "nbformat": 4,
 "nbformat_minor": 2
}
